{
  "nbformat": 4,
  "nbformat_minor": 0,
  "metadata": {
    "colab": {
      "name": "EDA III Prática Juntos.ipynb",
      "provenance": [],
      "collapsed_sections": [],
      "include_colab_link": true
    },
    "kernelspec": {
      "name": "python3",
      "display_name": "Python 3"
    },
    "language_info": {
      "name": "python"
    }
  },
  "cells": [
    {
      "cell_type": "markdown",
      "metadata": {
        "id": "view-in-github",
        "colab_type": "text"
      },
      "source": [
        "<a href=\"https://colab.research.google.com/github/RaphaelEiras/colorizando-fotos/blob/master/EDA_III_Pr%C3%A1tica_Juntos.ipynb\" target=\"_parent\"><img src=\"https://colab.research.google.com/assets/colab-badge.svg\" alt=\"Open In Colab\"/></a>"
      ]
    },
    {
      "cell_type": "markdown",
      "metadata": {
        "id": "LBnGa6DR5HX6"
      },
      "source": [
        "## EDA Prática Juntos\n",
        "\n",
        "\n",
        "Abaixo Documentações Libs Gráficos:\n",
        "\n",
        "- [Matplotlib](https://matplotlib.org/stable/tutorials/index.html#introductory)\n",
        "- [Seaborn](https://seaborn.pydata.org/tutorial.html)\n",
        "\n",
        "Opções de EDA:\n",
        "\n",
        "[Predict Sales](https://www.kaggle.com/c/competitive-data-science-predict-future-sales/data?select=sales_train.csv)\n",
        "\n",
        "[PUGB Finish Predict](https://www.kaggle.com/c/pubg-finish-placement-prediction/data)\n",
        "\n",
        "[Predict Price](https://www.kaggle.com/c/mercari-price-suggestion-challenge/data?select=train.tsv.7z)\n",
        "\n",
        "[Netflix Dataset](https://www.kaggle.com/shivamb/netflix-shows)\n",
        "\n",
        "\n",
        "[Predict Imdb Rate](https://www.kaggle.com/stefanoleone992/imdb-extensive-dataset?select=IMDb+ratings.csv)\n",
        "\n",
        "[Video Game Sales](https://www.kaggle.com/gregorut/videogamesales)\n",
        "\n",
        "## Desafio Escolhido\n"
      ]
    },
    {
      "cell_type": "markdown",
      "metadata": {
        "id": "NHEQ6klz9Gpy"
      },
      "source": [
        "## Posiveis Perguntas\n",
        "\n",
        "******\n",
        "\n",
        "- xxxx\n",
        "- xxxx"
      ]
    },
    {
      "cell_type": "code",
      "metadata": {
        "id": "ByqaPu9CD1Gr",
        "colab": {
          "base_uri": "https://localhost:8080/"
        },
        "outputId": "af75f91d-8093-4fea-9d0e-7ba66af1937f"
      },
      "source": [
        "!pip install -U seaborn"
      ],
      "execution_count": null,
      "outputs": [
        {
          "output_type": "stream",
          "name": "stdout",
          "text": [
            "Requirement already satisfied: seaborn in /usr/local/lib/python3.7/dist-packages (0.11.2)\n",
            "Requirement already satisfied: scipy>=1.0 in /usr/local/lib/python3.7/dist-packages (from seaborn) (1.4.1)\n",
            "Requirement already satisfied: pandas>=0.23 in /usr/local/lib/python3.7/dist-packages (from seaborn) (1.1.5)\n",
            "Requirement already satisfied: numpy>=1.15 in /usr/local/lib/python3.7/dist-packages (from seaborn) (1.19.5)\n",
            "Requirement already satisfied: matplotlib>=2.2 in /usr/local/lib/python3.7/dist-packages (from seaborn) (3.2.2)\n",
            "Requirement already satisfied: kiwisolver>=1.0.1 in /usr/local/lib/python3.7/dist-packages (from matplotlib>=2.2->seaborn) (1.3.2)\n",
            "Requirement already satisfied: python-dateutil>=2.1 in /usr/local/lib/python3.7/dist-packages (from matplotlib>=2.2->seaborn) (2.8.2)\n",
            "Requirement already satisfied: pyparsing!=2.0.4,!=2.1.2,!=2.1.6,>=2.0.1 in /usr/local/lib/python3.7/dist-packages (from matplotlib>=2.2->seaborn) (2.4.7)\n",
            "Requirement already satisfied: cycler>=0.10 in /usr/local/lib/python3.7/dist-packages (from matplotlib>=2.2->seaborn) (0.10.0)\n",
            "Requirement already satisfied: six in /usr/local/lib/python3.7/dist-packages (from cycler>=0.10->matplotlib>=2.2->seaborn) (1.15.0)\n",
            "Requirement already satisfied: pytz>=2017.2 in /usr/local/lib/python3.7/dist-packages (from pandas>=0.23->seaborn) (2018.9)\n"
          ]
        }
      ]
    },
    {
      "cell_type": "code",
      "metadata": {
        "id": "ZhVNYWkqCDCE"
      },
      "source": [
        "import seaborn as sns\n",
        "import matplotlib.pyplot as plt\n",
        "import pandas as pd\n",
        "import numpy as np"
      ],
      "execution_count": null,
      "outputs": []
    },
    {
      "cell_type": "code",
      "metadata": {
        "id": "fbbtZ37ayHCg"
      },
      "source": [
        "## ref - https://pythonguides.com/what-is-matplotlib-inline/\n",
        "%matplotlib inline"
      ],
      "execution_count": null,
      "outputs": []
    },
    {
      "cell_type": "code",
      "metadata": {
        "id": "56gTWZmuqqyi"
      },
      "source": [
        "#statistics lib\n",
        "from scipy import stats"
      ],
      "execution_count": null,
      "outputs": []
    }
  ]
}